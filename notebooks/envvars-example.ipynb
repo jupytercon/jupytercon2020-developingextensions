{
 "cells": [
  {
   "cell_type": "code",
   "execution_count": null,
   "metadata": {
    "papermill": {
     "duration": 0.311172,
     "end_time": "2019-05-30T21:45:59.664353",
     "exception": false,
     "start_time": "2019-05-30T21:45:59.353181",
     "status": "completed"
    },
    "tags": []
   },
   "outputs": [],
   "source": [
    "import os\n",
    "print(os.environ[\"HOME\"])\n",
    "print(os.environ['USER'])"
   ]
  },
  {
   "cell_type": "code",
   "execution_count": null,
   "metadata": {
    "papermill": {
     "duration": 0.241627,
     "end_time": "2019-05-30T21:46:01.068090",
     "exception": false,
     "start_time": "2019-05-30T21:46:00.826463",
     "status": "completed"
    },
    "tags": []
   },
   "outputs": [],
   "source": [
    "print(os.environ[\"PWD\"])\n",
    "\n",
    "print(os.environ[\"LANG\"])\n",
    "print(os.environ[\"SHELL\"])\n",
    "  "
   ]
  },
  {
   "cell_type": "code",
   "execution_count": 3,
   "metadata": {
    "papermill": {
     "duration": 0.184134,
     "end_time": "2019-05-30T21:46:02.344219",
     "exception": false,
     "start_time": "2019-05-30T21:46:02.160085",
     "status": "completed"
    },
    "tags": []
   },
   "outputs": [],
   "source": [
    "print(os.environ.get(\"HOME2\", 'this'))"
   ]
  },
  {
   "cell_type": "code",
   "execution_count": 4,
   "metadata": {
    "papermill": {
     "duration": 0.241165,
     "end_time": "2019-05-30T21:46:02.765000",
     "exception": false,
     "start_time": "2019-05-30T21:46:02.523835",
     "status": "completed"
    },
    "tags": []
   },
   "outputs": [
    {
     "name": "stdout",
     "output_type": "stream",
     "text": [
      "None\n"
     ]
    }
   ],
   "source": [
    "print(os.environ.get(\"JAVA_HOME\"))"
   ]
  },
  {
   "cell_type": "code",
   "execution_count": 5,
   "metadata": {
    "papermill": {
     "duration": 0.342129,
     "end_time": "2019-05-30T21:46:03.367251",
     "exception": false,
     "start_time": "2019-05-30T21:46:03.025122",
     "status": "completed"
    },
    "tags": []
   },
   "outputs": [
    {
     "name": "stdout",
     "output_type": "stream",
     "text": [
      "localhost\n",
      "localhost\n"
     ]
    }
   ],
   "source": [
    "print(os.getenv('HOSTNAME', 'localhost'))\n",
    "print(os.getenv(\"HOSTNAME\", 'localhost'))"
   ]
  },
  {
   "cell_type": "code",
   "execution_count": 6,
   "metadata": {
    "papermill": {
     "duration": 0.226868,
     "end_time": "2019-05-30T21:46:03.766322",
     "exception": false,
     "start_time": "2019-05-30T21:46:03.539454",
     "status": "completed"
    },
    "tags": []
   },
   "outputs": [
    {
     "name": "stdout",
     "output_type": "stream",
     "text": [
      "None\n",
      "None\n"
     ]
    }
   ],
   "source": [
    "print(os.getenv('HOSTNAME'))\n",
    "print(os.getenv(\"HOSTNAME\"))"
   ]
  }
 ],
 "metadata": {
  "kernelspec": {
   "display_name": "Python 3",
   "language": "python",
   "name": "python3"
  },
  "language_info": {
   "codemirror_mode": {
    "name": "ipython",
    "version": 3
   },
   "file_extension": ".py",
   "mimetype": "text/x-python",
   "name": "python",
   "nbconvert_exporter": "python",
   "pygments_lexer": "ipython3",
   "version": "3.7.5"
  },
  "papermill": {
   "duration": 7.099126,
   "end_time": "2019-05-30T21:46:04.689375",
   "environment_variables": {},
   "exception": null,
   "input_path": "notebook.ipynb",
   "output_path": "/mnt/results/jupyter-dev-results/training-Y58oWHMWR/result.ipynb",
   "parameters": {},
   "start_time": "2019-05-30T21:45:57.590249",
   "version": "1.0.1"
  }
 },
 "nbformat": 4,
 "nbformat_minor": 4
}
